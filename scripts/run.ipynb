{
 "cells": [
  {
   "cell_type": "code",
   "execution_count": null,
   "metadata": {},
   "outputs": [],
   "source": [
    "from datasets import load_dataset\n",
    "from PIL import Image \n",
    "\n",
    "dataset = load_dataset(\"kili-technology/plastic_in_river\")\n",
    "\n",
    "train_data = dataset[\"train\"]\n",
    "val_data = dataset[\"val\"]\n",
    "test_data = dataset[\"test\"]\n",
    "\n",
    "def format_data(dataset, image_path, label_path):\n",
    "\n",
    "    for i in range(len(dataset)):\n",
    "\n",
    "        image = dataset[i][\"image\"]\n",
    "        image_savepath = f\"{image_path}{i}.jpg\"\n",
    "        image.save(image_savepath)\n",
    "\n",
    "        labels = dataset[i][\"litter\"][\"label\"]\n",
    "        bbox = dataset[i][\"litter\"][\"bbox\"]\n",
    "        label_savepath = f\"{label_path}{i}.txt\"\n",
    "\n",
    "        for j in range(len(labels)):\n",
    "            with open(label_savepath, \"a\") as file:\n",
    "                label = labels[j]\n",
    "                line = f\"{label} {bbox[j][0]} {bbox[j][1]} {bbox[j][2]} {bbox[j][3]}\" + \"\\n\"\n",
    "                file.write(line)\n",
    "\n",
    "\n",
    "\n",
    "train_im_path = \"../datasets/images/train/\"\n",
    "train_txt_path = \"../datasets/labels/train/\"\n",
    "\n",
    "format_data(dataset=train_data, image_path=train_im_path, label_path=train_txt_path)\n",
    "\n",
    "val_im_path = \"../datasets/images/val/\"\n",
    "val_txt_path = \"../datasets/labels/val/\"\n",
    "\n",
    "format_data(dataset=val_data, image_path=val_im_path, label_path=val_txt_path)\n",
    "\n",
    "test_im_path = \"../datasets/images/test/\"\n",
    "test_txt_path = \"../datasets/labels/test/\"\n",
    "\n",
    "format_data(dataset=test_data, image_path=test_im_path, label_path=test_txt_path)\n",
    "\n",
    "\n"
   ]
  },
  {
   "cell_type": "code",
   "execution_count": null,
   "metadata": {},
   "outputs": [],
   "source": [
    "import torch \n",
    "from ultralytics import YOLO\n",
    "\n",
    "print(torch.cuda.is_available())\n",
    "print(torch.__version__)\n",
    "print(torch.cuda.get_device_name(0))\n",
    "\n",
    "initial_model = YOLO(\"yolov8n.pt\")\n",
    "\n",
    "results = initial_model.train(data = \"plastic_config.yaml\", epochs = 1)\n",
    "\n",
    "trained_model_path = \"runs/detect/train3/weights/best.pt\"\n",
    "\n",
    "trained_model = YOLO(trained_model_path)\n",
    "\n"
   ]
  }
 ],
 "metadata": {
  "kernelspec": {
   "display_name": "Python 3",
   "language": "python",
   "name": "python3"
  },
  "language_info": {
   "name": "python",
   "version": "3.12.3"
  }
 },
 "nbformat": 4,
 "nbformat_minor": 2
}
